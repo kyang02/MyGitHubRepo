{
 "cells": [
  {
   "cell_type": "markdown",
   "metadata": {},
   "source": [
    "## Setup"
   ]
  },
  {
   "cell_type": "code",
   "execution_count": 1,
   "metadata": {},
   "outputs": [
    {
     "data": {
      "application/vnd.jupyter.widget-view+json": {
       "model_id": "01405c92e0034201b855cd32e1004fed",
       "version_major": 2,
       "version_minor": 0
      },
      "text/plain": [
       "VBox()"
      ]
     },
     "metadata": {},
     "output_type": "display_data"
    },
    {
     "name": "stdout",
     "output_type": "stream",
     "text": [
      "Starting Spark application\n"
     ]
    },
    {
     "data": {
      "text/html": [
       "<table>\n",
       "<tr><th>ID</th><th>YARN Application ID</th><th>Kind</th><th>State</th><th>Spark UI</th><th>Driver log</th><th>Current session?</th></tr><tr><td>26</td><td>application_1570741080126_0028</td><td>pyspark</td><td>idle</td><td><a target=\"_blank\" href=\"http://ip-10-0-0-88.us-west-2.compute.internal:20888/proxy/application_1570741080126_0028/\">Link</a></td><td><a target=\"_blank\" href=\"http://ip-10-0-0-232.us-west-2.compute.internal:8042/node/containerlogs/container_1570741080126_0028_01_000001/livy\">Link</a></td><td>✔</td></tr></table>"
      ],
      "text/plain": [
       "<IPython.core.display.HTML object>"
      ]
     },
     "metadata": {},
     "output_type": "display_data"
    },
    {
     "data": {
      "application/vnd.jupyter.widget-view+json": {
       "model_id": "",
       "version_major": 2,
       "version_minor": 0
      },
      "text/plain": [
       "FloatProgress(value=0.0, bar_style='info', description='Progress:', layout=Layout(height='25px', width='50%'),…"
      ]
     },
     "metadata": {},
     "output_type": "display_data"
    },
    {
     "name": "stdout",
     "output_type": "stream",
     "text": [
      "SparkSession available as 'spark'.\n"
     ]
    },
    {
     "data": {
      "application/vnd.jupyter.widget-view+json": {
       "model_id": "",
       "version_major": 2,
       "version_minor": 0
      },
      "text/plain": [
       "FloatProgress(value=0.0, bar_style='info', description='Progress:', layout=Layout(height='25px', width='50%'),…"
      ]
     },
     "metadata": {},
     "output_type": "display_data"
    },
    {
     "name": "stdout",
     "output_type": "stream",
     "text": [
      "'2.4.4'"
     ]
    }
   ],
   "source": [
    "sc.version"
   ]
  },
  {
   "cell_type": "code",
   "execution_count": 2,
   "metadata": {},
   "outputs": [
    {
     "data": {
      "application/vnd.jupyter.widget-view+json": {
       "model_id": "4db96a2453414d6a97ce425e19ee2a57",
       "version_major": 2,
       "version_minor": 0
      },
      "text/plain": [
       "VBox()"
      ]
     },
     "metadata": {},
     "output_type": "display_data"
    },
    {
     "data": {
      "application/vnd.jupyter.widget-view+json": {
       "model_id": "",
       "version_major": 2,
       "version_minor": 0
      },
      "text/plain": [
       "FloatProgress(value=0.0, bar_style='info', description='Progress:', layout=Layout(height='25px', width='50%'),…"
      ]
     },
     "metadata": {},
     "output_type": "display_data"
    },
    {
     "name": "stdout",
     "output_type": "stream",
     "text": [
      "Collecting boto3\n",
      "  Downloading https://files.pythonhosted.org/packages/80/4d/af562d20771766f79018b15facaa88c70373e534e6bf49c362844e0a0775/boto3-1.10.11-py2.py3-none-any.whl (128kB)\n",
      "Collecting botocore<1.14.0,>=1.13.11\n",
      "  Downloading https://files.pythonhosted.org/packages/13/0c/607f0ac508711f8c41c6d5788080c991344acc61d31d32b3585ee66ccb67/botocore-1.13.11-py2.py3-none-any.whl (5.4MB)\n",
      "Collecting s3transfer<0.3.0,>=0.2.0\n",
      "  Using cached https://files.pythonhosted.org/packages/16/8a/1fc3dba0c4923c2a76e1ff0d52b305c44606da63f718d14d3231e21c51b0/s3transfer-0.2.1-py2.py3-none-any.whl\n",
      "Requirement already satisfied: jmespath<1.0.0,>=0.7.1 in /usr/local/lib/python3.6/site-packages (from boto3) (0.9.4)\n",
      "Collecting docutils<0.16,>=0.10\n",
      "  Using cached https://files.pythonhosted.org/packages/22/cd/a6aa959dca619918ccb55023b4cb151949c64d4d5d55b3f4ffd7eee0c6e8/docutils-0.15.2-py3-none-any.whl\n",
      "Collecting python-dateutil<2.8.1,>=2.1; python_version >= \"2.7\"\n",
      "  Using cached https://files.pythonhosted.org/packages/41/17/c62faccbfbd163c7f57f3844689e3a78bae1f403648a6afb1d0866d87fbb/python_dateutil-2.8.0-py2.py3-none-any.whl\n",
      "Collecting urllib3<1.26,>=1.20; python_version >= \"3.4\"\n",
      "  Using cached https://files.pythonhosted.org/packages/e0/da/55f51ea951e1b7c63a579c09dd7db825bb730ec1fe9c0180fc77bfb31448/urllib3-1.25.6-py2.py3-none-any.whl\n",
      "Requirement already satisfied: six>=1.5 in /usr/local/lib/python3.6/site-packages (from python-dateutil<2.8.1,>=2.1; python_version >= \"2.7\"->botocore<1.14.0,>=1.13.11->boto3) (1.12.0)\n",
      "Installing collected packages: docutils, python-dateutil, urllib3, botocore, s3transfer, boto3\n",
      "Successfully installed boto3-1.10.11 botocore-1.13.11 docutils-0.15.2 python-dateutil-2.8.0 s3transfer-0.2.1 urllib3-1.25.6\n",
      "\n",
      "Processing /var/lib/livy/.cache/pip/wheels/e6/2c/9d/9a0b4f06f3c9b939f464737b467d19df930081bc7e584b6fc8/sagemaker-1.43.4.post1-py2.py3-none-any.whl\n",
      "Collecting docker-compose>=1.23.0\n",
      "  Using cached https://files.pythonhosted.org/packages/dd/e6/1521d1dfd9c0da1d1863b18e592d91c3df222e55f258b9876fa1e59bc4b5/docker_compose-1.24.1-py2.py3-none-any.whl\n",
      "Requirement already satisfied: numpy>=1.9.0 in /usr/local/lib64/python3.6/site-packages (from sagemaker) (1.14.5)\n",
      "Collecting scipy>=0.19.0\n",
      "  Using cached https://files.pythonhosted.org/packages/29/50/a552a5aff252ae915f522e44642bb49a7b7b31677f9580cfd11bcc869976/scipy-1.3.1-cp36-cp36m-manylinux1_x86_64.whl\n",
      "Collecting fabric>=2.0\n",
      "  Using cached https://files.pythonhosted.org/packages/d7/cb/47feeb00dae857f0fbd1153a61e902e54ed77ccdc578b371a514a3959a19/fabric-2.5.0-py2.py3-none-any.whl\n",
      "Collecting urllib3<1.25,>=1.21\n",
      "  Using cached https://files.pythonhosted.org/packages/01/11/525b02e4acc0c747de8b6ccdab376331597c569c42ea66ab0a1dbd36eca2/urllib3-1.24.3-py2.py3-none-any.whl\n",
      "Requirement already satisfied: boto3>=1.9.213 in /mnt/tmp/1573082625900-0/lib/python3.6/site-packages (from sagemaker) (1.10.11)\n",
      "Collecting protobuf>=3.1\n",
      "  Using cached https://files.pythonhosted.org/packages/a8/52/d8d2dbff74b8bf517c42db8d44c3f9ef6555e6f5d6caddfa3f207b9143df/protobuf-3.10.0-cp36-cp36m-manylinux1_x86_64.whl\n",
      "Processing /var/lib/livy/.cache/pip/wheels/37/42/d8/1609d310cabebc2cf60eca038fa2b0c8503412963734a6fc31/protobuf3_to_dict-0.1.5-cp36-none-any.whl\n",
      "Collecting requests<2.21,>=2.20.0\n",
      "  Using cached https://files.pythonhosted.org/packages/ff/17/5cbb026005115301a8fb2f9b0e3e8d32313142fe8b617070e7baad20554f/requests-2.20.1-py2.py3-none-any.whl\n",
      "Requirement already satisfied: six<2,>=1.3.0 in /usr/local/lib/python3.6/site-packages (from docker-compose>=1.23.0->sagemaker) (1.12.0)\n",
      "Collecting docker[ssh]<4.0,>=3.7.0\n",
      "  Using cached https://files.pythonhosted.org/packages/09/da/7cc7ecdcd01145e9924a8ccbe9c1baf3a362fc75d4cb150676eb5231ea60/docker-3.7.3-py2.py3-none-any.whl\n",
      "Processing /var/lib/livy/.cache/pip/wheels/e5/1e/86/bd0a97a0907c6c654af654d5875d1d4383dd1f575f77cee4aa/dockerpty-0.4.1-cp36-none-any.whl\n",
      "Processing /var/lib/livy/.cache/pip/wheels/99/1e/2b/8452d3a48dad98632787556a0f2f90d56703b39cdf7d142dd1/texttable-0.9.1-cp36-none-any.whl\n",
      "Collecting websocket-client<1.0,>=0.32.0\n",
      "  Using cached https://files.pythonhosted.org/packages/29/19/44753eab1fdb50770ac69605527e8859468f3c0fd7dc5a76dd9c4dbd7906/websocket_client-0.56.0-py2.py3-none-any.whl\n",
      "Processing /var/lib/livy/.cache/pip/wheels/9b/04/dd/7daf4150b6d9b12949298737de9431a324d4b797ffd63f526e/docopt-0.6.2-py2.py3-none-any.whl\n",
      "Requirement already satisfied: PyYAML<4.3,>=3.10 in /usr/local/lib64/python3.6/site-packages (from docker-compose>=1.23.0->sagemaker) (3.11)\n",
      "Collecting jsonschema<3,>=2.5.1\n",
      "  Using cached https://files.pythonhosted.org/packages/77/de/47e35a97b2b05c2fadbec67d44cfcdcd09b8086951b331d82de90d2912da/jsonschema-2.6.0-py2.py3-none-any.whl\n",
      "Collecting cached-property<2,>=1.2.0\n",
      "  Using cached https://files.pythonhosted.org/packages/3b/86/85c1be2e8db9e13ef9a350aecd6dea292bd612fa288c2f40d035bb750ded/cached_property-1.5.1-py2.py3-none-any.whl\n",
      "Collecting invoke<2.0,>=1.3\n",
      "  Using cached https://files.pythonhosted.org/packages/d9/7c/68e99f659749dbf3349ce72e2e9b581f644b8482121d92ab604145ad01ac/invoke-1.3.0-py3-none-any.whl\n",
      "Collecting paramiko>=2.4\n",
      "  Using cached https://files.pythonhosted.org/packages/4b/80/74dace9e48b0ef923633dfb5e48798f58a168e4734bca8ecfaf839ba051a/paramiko-2.6.0-py2.py3-none-any.whl\n",
      "Requirement already satisfied: botocore<1.14.0,>=1.13.11 in /mnt/tmp/1573082625900-0/lib/python3.6/site-packages (from boto3>=1.9.213->sagemaker) (1.13.11)\n",
      "Requirement already satisfied: s3transfer<0.3.0,>=0.2.0 in /mnt/tmp/1573082625900-0/lib/python3.6/site-packages (from boto3>=1.9.213->sagemaker) (0.2.1)\n",
      "Requirement already satisfied: jmespath<1.0.0,>=0.7.1 in /usr/local/lib/python3.6/site-packages (from boto3>=1.9.213->sagemaker) (0.9.4)\n",
      "Requirement already satisfied: setuptools in /mnt/tmp/1573082625900-0/lib/python3.6/site-packages (from protobuf>=3.1->sagemaker) (41.6.0)\n",
      "Collecting idna<2.8,>=2.5\n",
      "  Using cached https://files.pythonhosted.org/packages/4b/2a/0276479a4b3caeb8a8c1af2f8e4355746a97fab05a372e4a2c6a6b876165/idna-2.7-py2.py3-none-any.whl\n",
      "Collecting certifi>=2017.4.17\n",
      "  Using cached https://files.pythonhosted.org/packages/18/b0/8146a4f8dd402f60744fa380bc73ca47303cccf8b9190fd16a827281eac2/certifi-2019.9.11-py2.py3-none-any.whl\n",
      "Collecting chardet<3.1.0,>=3.0.2\n",
      "  Using cached https://files.pythonhosted.org/packages/bc/a9/01ffebfb562e4274b6487b4bb1ddec7ca55ec7510b22e4c51f14098443b8/chardet-3.0.4-py2.py3-none-any.whl\n",
      "Collecting docker-pycreds>=0.4.0\n",
      "  Using cached https://files.pythonhosted.org/packages/f5/e8/f6bd1eee09314e7e6dee49cbe2c5e22314ccdb38db16c9fc72d2fa80d054/docker_pycreds-0.4.0-py2.py3-none-any.whl\n",
      "Collecting pynacl>=1.0.1\n",
      "  Using cached https://files.pythonhosted.org/packages/27/15/2cd0a203f318c2240b42cd9dd13c931ddd61067809fee3479f44f086103e/PyNaCl-1.3.0-cp34-abi3-manylinux1_x86_64.whl\n",
      "Collecting bcrypt>=3.1.3\n",
      "  Using cached https://files.pythonhosted.org/packages/8b/1d/82826443777dd4a624e38a08957b975e75df859b381ae302cfd7a30783ed/bcrypt-3.1.7-cp34-abi3-manylinux1_x86_64.whl\n",
      "Collecting cryptography>=2.5\n",
      "  Using cached https://files.pythonhosted.org/packages/ca/9a/7cece52c46546e214e10811b36b2da52ce1ea7fa203203a629b8dfadad53/cryptography-2.8-cp34-abi3-manylinux2010_x86_64.whl\n",
      "Requirement already satisfied: docutils<0.16,>=0.10 in /mnt/tmp/1573082625900-0/lib/python3.6/site-packages (from botocore<1.14.0,>=1.13.11->boto3>=1.9.213->sagemaker) (0.15.2)\n",
      "Requirement already satisfied: python-dateutil<2.8.1,>=2.1; python_version >= \"2.7\" in /mnt/tmp/1573082625900-0/lib/python3.6/site-packages (from botocore<1.14.0,>=1.13.11->boto3>=1.9.213->sagemaker) (2.8.0)\n",
      "Collecting cffi>=1.4.1\n",
      "  Using cached https://files.pythonhosted.org/packages/49/72/0d42f94fe94afa8030350c26e9d787219f3f008ec9bf6b86c66532b29236/cffi-1.13.2-cp36-cp36m-manylinux1_x86_64.whl\n",
      "Processing /var/lib/livy/.cache/pip/wheels/f2/9a/90/de94f8556265ddc9d9c8b271b0f63e57b26fb1d67a45564511/pycparser-2.19-py2.py3-none-any.whl\n",
      "Installing collected packages: urllib3, idna, certifi, chardet, requests, websocket-client, docker-pycreds, pycparser, cffi, pynacl, bcrypt, cryptography, paramiko, docker, dockerpty, texttable, docopt, jsonschema, cached-property, docker-compose, scipy, invoke, fabric, protobuf, protobuf3-to-dict, sagemaker\n",
      "  Found existing installation: urllib3 1.25.6\n",
      "    Uninstalling urllib3-1.25.6:\n",
      "      Successfully uninstalled urllib3-1.25.6\n",
      "Successfully installed bcrypt-3.1.7 cached-property-1.5.1 certifi-2019.9.11 cffi-1.13.2 chardet-3.0.4 cryptography-2.8 docker-3.7.3 docker-compose-1.24.1 docker-pycreds-0.4.0 dockerpty-0.4.1 docopt-0.6.2 fabric-2.5.0 idna-2.7 invoke-1.3.0 jsonschema-2.6.0 paramiko-2.6.0 protobuf-3.10.0 protobuf3-to-dict-0.1.5 pycparser-2.19 pynacl-1.3.0 requests-2.20.1 sagemaker-1.43.4.post1 scipy-1.3.1 texttable-0.9.1 urllib3-1.24.3 websocket-client-0.56.0"
     ]
    }
   ],
   "source": [
    "sc.install_pypi_package(\"boto3\")\n",
    "sc.install_pypi_package('sagemaker')"
   ]
  },
  {
   "cell_type": "code",
   "execution_count": 3,
   "metadata": {},
   "outputs": [
    {
     "data": {
      "application/vnd.jupyter.widget-view+json": {
       "model_id": "fb74e95ef9da45428ecd215b786eb0b3",
       "version_major": 2,
       "version_minor": 0
      },
      "text/plain": [
       "VBox()"
      ]
     },
     "metadata": {},
     "output_type": "display_data"
    },
    {
     "data": {
      "application/vnd.jupyter.widget-view+json": {
       "model_id": "",
       "version_major": 2,
       "version_minor": 0
      },
      "text/plain": [
       "FloatProgress(value=0.0, bar_style='info', description='Progress:', layout=Layout(height='25px', width='50%'),…"
      ]
     },
     "metadata": {},
     "output_type": "display_data"
    }
   ],
   "source": [
    "import boto3\n",
    "import sagemaker\n",
    "\n",
    "region = 'us-west-2'\n",
    "\n",
    "boto_sess = boto3.Session(region_name=region)\n",
    "sage_sdk_session = sagemaker.Session(boto_session=boto_sess)"
   ]
  },
  {
   "cell_type": "markdown",
   "metadata": {},
   "source": [
    "## Loading the Data\n",
    "\n",
    "We will use the abalone data set from the [UC Irvine Machine Learning Repository](https://archive.ics.uci.edu/ml/datasets/Abalone).\n",
    "\n",
    "   Given is the attribute name, attribute type, the measurement unit and a\n",
    "   brief description.  The number of rings is the value to predict: either\n",
    "   as a continuous value or as a classification problem.\n",
    "\n",
    "\tName\t\tData Type\tMeas.\tDescription\n",
    "\t----\t\t---------\t-----\t-----------\n",
    "\tSex\t\tnominal\t\t\tM, F, and I (infant)\n",
    "\tLength\t\tcontinuous\tmm\tLongest shell measurement\n",
    "\tDiameter\tcontinuous\tmm\tperpendicular to length\n",
    "\tHeight\t\tcontinuous\tmm\twith meat in shell\n",
    "\tWhole weight\tcontinuous\tgrams\twhole abalone\n",
    "\tShucked weight\tcontinuous\tgrams\tweight of meat\n",
    "\tViscera weight\tcontinuous\tgrams\tgut weight (after bleeding)\n",
    "\tShell weight\tcontinuous\tgrams\tafter being dried\n",
    "\tRings\t\tinteger\t\t\t+1.5 gives the age in years"
   ]
  },
  {
   "cell_type": "code",
   "execution_count": 4,
   "metadata": {},
   "outputs": [
    {
     "data": {
      "application/vnd.jupyter.widget-view+json": {
       "model_id": "21af8a7e46044f3f9ebde6da0c08a0f5",
       "version_major": 2,
       "version_minor": 0
      },
      "text/plain": [
       "VBox()"
      ]
     },
     "metadata": {},
     "output_type": "display_data"
    },
    {
     "data": {
      "application/vnd.jupyter.widget-view+json": {
       "model_id": "",
       "version_major": 2,
       "version_minor": 0
      },
      "text/plain": [
       "FloatProgress(value=0.0, bar_style='info', description='Progress:', layout=Layout(height='25px', width='50%'),…"
      ]
     },
     "metadata": {},
     "output_type": "display_data"
    },
    {
     "name": "stdout",
     "output_type": "stream",
     "text": [
      "root\n",
      " |-- Length: double (nullable = true)\n",
      " |-- Diameter: double (nullable = true)\n",
      " |-- Height: double (nullable = true)\n",
      " |-- Whole_weight: double (nullable = true)\n",
      " |-- Shucked_weight: double (nullable = true)\n",
      " |-- Viscera_weight: double (nullable = true)\n",
      " |-- Shell_weight: double (nullable = true)\n",
      " |-- Male: integer (nullable = true)\n",
      " |-- Female: integer (nullable = true)\n",
      " |-- Infant: integer (nullable = true)\n",
      " |-- Rings: integer (nullable = true)\n",
      "\n",
      "+-----+------+--------+------+------------+--------------+--------------+------------+----+------+------+\n",
      "|Rings|Length|Diameter|Height|Whole_weight|Shucked_weight|Viscera_weight|Shell_weight|Male|Female|Infant|\n",
      "+-----+------+--------+------+------------+--------------+--------------+------------+----+------+------+\n",
      "|   15| 0.455|   0.365| 0.095|       0.514|        0.2245|         0.101|        0.15|   1|     0|     0|\n",
      "|    7|  0.35|   0.265|  0.09|      0.2255|        0.0995|        0.0485|        0.07|   1|     0|     0|\n",
      "|    9|  0.53|    0.42| 0.135|       0.677|        0.2565|        0.1415|        0.21|   0|     1|     0|\n",
      "|   10|  0.44|   0.365| 0.125|       0.516|        0.2155|         0.114|       0.155|   1|     0|     0|\n",
      "|    7|  0.33|   0.255|  0.08|       0.205|        0.0895|        0.0395|       0.055|   0|     0|     1|\n",
      "+-----+------+--------+------+------------+--------------+--------------+------------+----+------+------+\n",
      "only showing top 5 rows"
     ]
    }
   ],
   "source": [
    "#Pull down dataset from the S3\n",
    "abaloneData = spark.read.load('s3a://emr-lab-income-dataset/Clean/', format='csv', inferSchema=True, header=True)\n",
    "\n",
    "for dimension in ['Length', 'Diameter', 'Height']:\n",
    "    abaloneData = abaloneData.withColumn(dimension,abaloneData[dimension].cast('double'))\n",
    "\n",
    "abaloneData.printSchema()\n",
    "abaloneData = abaloneData.select(['Rings', 'Length', 'Diameter', 'Height', 'Whole_weight', 'Shucked_weight',\n",
    "                                 'Viscera_weight', 'Shell_weight', 'Male', 'Female', 'Infant'])\n",
    "abaloneData.show(n=5)"
   ]
  },
  {
   "cell_type": "code",
   "execution_count": 5,
   "metadata": {},
   "outputs": [
    {
     "data": {
      "application/vnd.jupyter.widget-view+json": {
       "model_id": "a5b09e526703417fa85352f7a620d163",
       "version_major": 2,
       "version_minor": 0
      },
      "text/plain": [
       "VBox()"
      ]
     },
     "metadata": {},
     "output_type": "display_data"
    },
    {
     "data": {
      "application/vnd.jupyter.widget-view+json": {
       "model_id": "",
       "version_major": 2,
       "version_minor": 0
      },
      "text/plain": [
       "FloatProgress(value=0.0, bar_style='info', description='Progress:', layout=Layout(height='25px', width='50%'),…"
      ]
     },
     "metadata": {},
     "output_type": "display_data"
    }
   ],
   "source": [
    "#Split the dataframe in to training and validation data\n",
    "trainData, testData = abaloneData.randomSplit([.8,.2])\n",
    "\n",
    "#Save the data in to S3 for later training by SageMaker\n",
    "#trainData.write.save('s3a://emr-lab-income-dataset/train/', format='csv', mode='overwrite')\n",
    "#testData.write.save('s3a://emr-lab-income-dataset/test/', format='csv', mode='overwrite')\n",
    "#There is an issue with randomSplit. For dev purposes just use AbaloneData for now\n",
    "abaloneData.write.save('s3a://emr-lab-income-dataset/test/', format='csv', mode='overwrite')"
   ]
  },
  {
   "cell_type": "code",
   "execution_count": 12,
   "metadata": {},
   "outputs": [
    {
     "data": {
      "application/vnd.jupyter.widget-view+json": {
       "model_id": "8bead2cddc4b4770bfa0935c5c086496",
       "version_major": 2,
       "version_minor": 0
      },
      "text/plain": [
       "VBox()"
      ]
     },
     "metadata": {},
     "output_type": "display_data"
    },
    {
     "data": {
      "application/vnd.jupyter.widget-view+json": {
       "model_id": "",
       "version_major": 2,
       "version_minor": 0
      },
      "text/plain": [
       "FloatProgress(value=0.0, bar_style='info', description='Progress:', layout=Layout(height='25px', width='50%'),…"
      ]
     },
     "metadata": {},
     "output_type": "display_data"
    },
    {
     "name": "stdout",
     "output_type": "stream",
     "text": [
      "11"
     ]
    }
   ],
   "source": [
    "len(abaloneData.columns)"
   ]
  },
  {
   "cell_type": "code",
   "execution_count": 13,
   "metadata": {},
   "outputs": [
    {
     "data": {
      "application/vnd.jupyter.widget-view+json": {
       "model_id": "9ab84fab967f426aa245aa0110ff74ee",
       "version_major": 2,
       "version_minor": 0
      },
      "text/plain": [
       "VBox()"
      ]
     },
     "metadata": {},
     "output_type": "display_data"
    },
    {
     "data": {
      "application/vnd.jupyter.widget-view+json": {
       "model_id": "",
       "version_major": 2,
       "version_minor": 0
      },
      "text/plain": [
       "FloatProgress(value=0.0, bar_style='info', description='Progress:', layout=Layout(height='25px', width='50%'),…"
      ]
     },
     "metadata": {},
     "output_type": "display_data"
    }
   ],
   "source": [
    "training_images = {'LinearLearner': '174872318107.dkr.ecr.us-west-2.amazonaws.com/linear-learner:latest',\n",
    "                  'XGBoost': '174872318107.dkr.ecr.us-west-2.amazonaws.com/xgboost:latest'}\n",
    "\n",
    "hyperparams = {'feature_dim':len(abaloneData.columns)-1,\n",
    "                  'predictor_type': 'regressor'}\n",
    "\n",
    "sagemaker_execution_role = 'arn:aws:iam::883624334343:role/service-role/AmazonSageMaker-ExecutionRole-20190906T093404'\n",
    "estimator = sagemaker.estimator.Estimator(\n",
    "            image_name=training_images['LinearLearner'],\n",
    "            role=sagemaker_execution_role, \n",
    "            train_instance_count=1, \n",
    "            train_instance_type='ml.p2.xlarge',\n",
    "            output_path=None, \n",
    "            output_kms_key=None, \n",
    "            base_job_name=None, \n",
    "            sagemaker_session=sage_sdk_session, \n",
    "            hyperparameters=hyperparams, \n",
    "            train_use_spot_instances=False, \n",
    "            train_max_wait=None)"
   ]
  },
  {
   "cell_type": "code",
   "execution_count": 14,
   "metadata": {},
   "outputs": [
    {
     "data": {
      "application/vnd.jupyter.widget-view+json": {
       "model_id": "7d269da2a40149cfa8a0e9d34c5517c7",
       "version_major": 2,
       "version_minor": 0
      },
      "text/plain": [
       "VBox()"
      ]
     },
     "metadata": {},
     "output_type": "display_data"
    },
    {
     "data": {
      "application/vnd.jupyter.widget-view+json": {
       "model_id": "",
       "version_major": 2,
       "version_minor": 0
      },
      "text/plain": [
       "FloatProgress(value=0.0, bar_style='info', description='Progress:', layout=Layout(height='25px', width='50%'),…"
      ]
     },
     "metadata": {},
     "output_type": "display_data"
    },
    {
     "name": "stderr",
     "output_type": "stream",
     "text": [
      "Error for Training job linear-learner-2019-11-06-23-36-02-846: Failed. Reason: ClientError: Unable to read data channel 'train'. Requested content-type is 'application/x-recordio-protobuf'. Please verify the data matches the requested content-type. (caused by MXNetError)\n",
      "\n",
      "Caused by: [23:39:10] /opt/brazil-pkg-cache/packages/AIAlgorithmsCppLibs/AIAlgorithmsCppLibs-2.0.2051.0/AL2012/generic-flavor/src/src/aialgs/io/iterator_base.cpp:100: (Input Error) The header of the MXNet RecordIO record at position 0 in the dataset does not start with a valid magic number.\n",
      "\n",
      "Stack trace returned 10 entries:\n",
      "[bt] (0) /opt/amazon/lib/libaialgs.so(+0xb1f0) [0x7fad550de1f0]\n",
      "[bt] (1) /opt/amazon/lib/libaialgs.so(+0xb54a) [0x7fad550de54a]\n",
      "[bt] (2) /opt/amazon/lib/libaialgs.so(aialgs::iterator_base::Next()+0x4a6) [0x7fad550e7436]\n",
      "[bt] (3) /opt/amazon/lib/libmxnet.so(MXDataIterNext+0x21) [0x7fad43bbd131]\n",
      "[bt] (4) /opt/amazon/python2.7/lib/python2.7/lib-dynload/_ctypes.so(ffi_call_unix64+0x4c) [0x7fad5563a858]\n",
      "[bt] (5) /opt/amazon/python2.7/lib/python2.7/lib-dynload/_ctypes.so(ffi_call+0x15f) [0x7fad5563995f\n",
      "Traceback (most recent call last):\n",
      "  File \"/tmp/1573082625900-0/local/lib/python3.6/site-packages/sagemaker/estimator.py\", line 341, in fit\n",
      "    self.latest_training_job.wait(logs=logs)\n",
      "  File \"/tmp/1573082625900-0/local/lib/python3.6/site-packages/sagemaker/estimator.py\", line 904, in wait\n",
      "    self.sagemaker_session.logs_for_job(self.job_name, wait=True)\n",
      "  File \"/tmp/1573082625900-0/local/lib/python3.6/site-packages/sagemaker/session.py\", line 1515, in logs_for_job\n",
      "    self._check_job_status(job_name, description, \"TrainingJobStatus\")\n",
      "  File \"/tmp/1573082625900-0/local/lib/python3.6/site-packages/sagemaker/session.py\", line 1156, in _check_job_status\n",
      "    actual_status=status,\n",
      "sagemaker.exceptions.UnexpectedStatusException: Error for Training job linear-learner-2019-11-06-23-36-02-846: Failed. Reason: ClientError: Unable to read data channel 'train'. Requested content-type is 'application/x-recordio-protobuf'. Please verify the data matches the requested content-type. (caused by MXNetError)\n",
      "\n",
      "Caused by: [23:39:10] /opt/brazil-pkg-cache/packages/AIAlgorithmsCppLibs/AIAlgorithmsCppLibs-2.0.2051.0/AL2012/generic-flavor/src/src/aialgs/io/iterator_base.cpp:100: (Input Error) The header of the MXNet RecordIO record at position 0 in the dataset does not start with a valid magic number.\n",
      "\n",
      "Stack trace returned 10 entries:\n",
      "[bt] (0) /opt/amazon/lib/libaialgs.so(+0xb1f0) [0x7fad550de1f0]\n",
      "[bt] (1) /opt/amazon/lib/libaialgs.so(+0xb54a) [0x7fad550de54a]\n",
      "[bt] (2) /opt/amazon/lib/libaialgs.so(aialgs::iterator_base::Next()+0x4a6) [0x7fad550e7436]\n",
      "[bt] (3) /opt/amazon/lib/libmxnet.so(MXDataIterNext+0x21) [0x7fad43bbd131]\n",
      "[bt] (4) /opt/amazon/python2.7/lib/python2.7/lib-dynload/_ctypes.so(ffi_call_unix64+0x4c) [0x7fad5563a858]\n",
      "[bt] (5) /opt/amazon/python2.7/lib/python2.7/lib-dynload/_ctypes.so(ffi_call+0x15f) [0x7fad5563995f\n",
      "\n"
     ]
    }
   ],
   "source": [
    "s3_train_data = 's3://{}/{}/'.format('emr-lab-income-dataset', 'test')\n",
    "estimator.fit({'train': s3_train_data})"
   ]
  },
  {
   "cell_type": "code",
   "execution_count": null,
   "metadata": {},
   "outputs": [],
   "source": [
    "predictor = estimator.deploy(initial_instance_count=1, instance_type='ml.m4.xlarge')"
   ]
  },
  {
   "cell_type": "code",
   "execution_count": 16,
   "metadata": {},
   "outputs": [
    {
     "data": {
      "application/vnd.jupyter.widget-view+json": {
       "model_id": "5e9a036f6ba0438b9d08ba50fbb13dc5",
       "version_major": 2,
       "version_minor": 0
      },
      "text/plain": [
       "VBox()"
      ]
     },
     "metadata": {},
     "output_type": "display_data"
    },
    {
     "data": {
      "application/vnd.jupyter.widget-view+json": {
       "model_id": "",
       "version_major": 2,
       "version_minor": 0
      },
      "text/plain": [
       "FloatProgress(value=0.0, bar_style='info', description='Progress:', layout=Layout(height='25px', width='50%'),…"
      ]
     },
     "metadata": {},
     "output_type": "display_data"
    }
   ],
   "source": [
    "#Write training and validation data to S3\n",
    "trainData.write.save('s3a://emr-lab-income-dataset/train/', format='csv', mode='overwrite')"
   ]
  },
  {
   "cell_type": "code",
   "execution_count": 15,
   "metadata": {},
   "outputs": [
    {
     "data": {
      "application/vnd.jupyter.widget-view+json": {
       "model_id": "b4aa443da1854d8a8bd3b33f922f4829",
       "version_major": 2,
       "version_minor": 0
      },
      "text/plain": [
       "VBox()"
      ]
     },
     "metadata": {},
     "output_type": "display_data"
    },
    {
     "data": {
      "application/vnd.jupyter.widget-view+json": {
       "model_id": "",
       "version_major": 2,
       "version_minor": 0
      },
      "text/plain": [
       "FloatProgress(value=0.0, bar_style='info', description='Progress:', layout=Layout(height='25px', width='50%'),…"
      ]
     },
     "metadata": {},
     "output_type": "display_data"
    }
   ],
   "source": [
    "#Write training and validation data to S3\n",
    "abaloneData.write.save('s3a://emr-lab-income-dataset/Clean/abaloneData_writeTest.csv', format='csv', mode='overwrite')"
   ]
  },
  {
   "cell_type": "markdown",
   "metadata": {},
   "source": [
    "## Training and Hosting a Model"
   ]
  },
  {
   "cell_type": "markdown",
   "metadata": {},
   "source": [
    "## Inference\n"
   ]
  },
  {
   "cell_type": "markdown",
   "metadata": {},
   "source": [
    "How well did the algorithm perform? Let us display the digits corresponding to each of the labels and manually inspect the results:"
   ]
  },
  {
   "cell_type": "markdown",
   "metadata": {},
   "source": [
    "Since we don't need to make any more inferences, now we delete the endpoint:"
   ]
  },
  {
   "cell_type": "code",
   "execution_count": null,
   "metadata": {},
   "outputs": [],
   "source": [
    "# Delete the endpoint"
   ]
  },
  {
   "cell_type": "markdown",
   "metadata": {},
   "source": [
    "## More on SageMaker Spark\n",
    "\n",
    "The SageMaker Spark Github repository has more about SageMaker Spark, including how to use SageMaker Spark with your own algorithms on Amazon SageMaker: https://github.com/aws/sagemaker-spark\n"
   ]
  }
 ],
 "metadata": {
  "kernelspec": {
   "display_name": "PySpark",
   "language": "",
   "name": "pysparkkernel"
  },
  "language_info": {
   "codemirror_mode": {
    "name": "python",
    "version": 2
   },
   "mimetype": "text/x-python",
   "name": "pyspark",
   "pygments_lexer": "python2"
  },
  "notice": "Copyright 2017 Amazon.com, Inc. or its affiliates. All Rights Reserved.  Licensed under the Apache License, Version 2.0 (the \"License\"). You may not use this file except in compliance with the License. A copy of the License is located at http://aws.amazon.com/apache2.0/ or in the \"license\" file accompanying this file. This file is distributed on an \"AS IS\" BASIS, WITHOUT WARRANTIES OR CONDITIONS OF ANY KIND, either express or implied. See the License for the specific language governing permissions and limitations under the License."
 },
 "nbformat": 4,
 "nbformat_minor": 2
}
